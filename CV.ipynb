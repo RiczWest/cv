{
 "cells": [
  {
   "cell_type": "markdown",
   "id": "bdade8b3-70d7-473c-bf39-f96a25eb9e02",
   "metadata": {},
   "source": [
    "# Career Summary\n",
    "* Experienced Enterprise, Solution and Technical Architect with specialisations in Cloud / Distributed Systems,  Digital and Integration\n",
    "* 15 years’ experience as an Enterprise and Solution Architect\n",
    "* 20 years Digital experience using Responsive Web, Tablet and Mobile to craft Customer Experiences \n",
    "* 20 years of creating Integration and Service based architectures, including SOA and MicroServices\n",
    "* 20 Years Agile/XP and Certified Scrum Master and Kanban Certified Practitioner including coaching\n",
    "* Broad experience across Energy, Utilities, Finance, Insurance, Health, Media and Telecom Sectors\n",
    "* Performed Governance, Process and Technical Design Authority roles at the Enterprise level\n",
    "* Creation of Digital Infrastructure and Content Management using AEM and Sitecore on AWS and Azure\n",
    "* Patterns / Blueprints Experience, producing and using them at Enterprise, Solution and Technical levels\n",
    "* 6-8 figure programmes for companies such as Atlassian, CBA, NAB, Telstra, Thames Water, CGI / UK Smart Metering, Lloyds TSB, IFDS, XChanging, RSA, Vodafone, British Gas, Prudential, TNT, and BAE / Defence\n",
    "* RFx/SoW and evaluations for South East Water, Thames Water, British Gas, Vodafone and many others\n",
    "* Supplementary skills in Requirements along with Business, Information and Conceptual Data Modelling\n",
    "* Used UML for 20 years and ArchiMate for the past 10 with a variety of tools"
   ]
  },
  {
   "cell_type": "markdown",
   "id": "44192e50-1c96-4ece-bc71-bf5ff6ff3c98",
   "metadata": {},
   "source": [
    "# Core Skills"
   ]
  },
  {
   "cell_type": "code",
   "execution_count": 26,
   "id": "c8430fc7-1410-47c1-abf2-a28b0171c73b",
   "metadata": {
    "tags": []
   },
   "outputs": [
    {
     "name": "stdout",
     "output_type": "stream",
     "text": [
      "Architectural:\n",
      "  Cloud: Equal Azure and Amazon Web Services, with some IBM, Google and RedHat OpenShift\n",
      "  Digital: Designed and implemented using Web, Portals, Caching, Mobile\n",
      "  Enterprise Architecture Frameworks: ArchiMate, TOGAF, Zachman, IFW and DoDAF\n",
      "  MicroServices & SOA: Created end-to-end Enterprise to Logical to Physical Architectures\n",
      "  Patterns: Erl SOA, Hohpe SOA / EAI, J2EE, Gang of Four and Custom\n",
      "  Solution Architecture & Design: Across Cloud, JavaScript, J2EE, .NET and Mainframe\n",
      "Other:\n",
      "  Hobbies: Boating, Electronic Music and Photography\n",
      "  Misc Skills: Project Management, Mentoring, Usability, Training and Process Development\n",
      "  Soft Skills: Design Thinking, 6 Hats Thinking, Team Leadership, Mentoring, Communication\n",
      "  Software Processes: Agile, XP, Scrum, Lean, Unified Process, V Model, Waterfall\n",
      "Technical:\n",
      "  Cloud: Azure, Amazon Web Services, with some RedHat OpenShift\n",
      "  ESBs: WebSphere Message Broker, WebMethods, Mule and FUSE\n",
      "  Java / J(2)EE: Up to Java 8 & JEE 7 on WebSphere, WebLogic, Tomcat and JBoss\n",
      "  Miscellaneous: Drools (Rules Engine), and Vaadin (RIA)\n",
      "  Mobile: PhoneGap, Ionic (Cordova+Angular) with Bootstrap, Android, iOS\n",
      "  Web Content Management: Adobe CQ / Experience Manager (AEM) and Sitecore\n",
      "  Workflow: PEGA and Bonita\n",
      "\n"
     ]
    }
   ],
   "source": [
    "CoreSkills = {\n",
    "    \"Architectural\" : {\n",
    "        \"Digital\"  : \"Designed and implemented using Web, Portals, Caching, Mobile\",\n",
    "        \"Cloud\"    : \"Equal Azure and Amazon Web Services, with some IBM, Google and RedHat OpenShift\",\n",
    "        \"MicroServices & SOA\" : \"Created end-to-end Enterprise to Logical to Physical Architectures\",\n",
    "        \"Patterns\" : \"Erl SOA, Hohpe SOA / EAI, J2EE, Gang of Four and Custom\",\n",
    "        \"Solution Architecture & Design\": \"Across Cloud, JavaScript, J2EE, .NET and Mainframe\",\n",
    "        \"Enterprise Architecture Frameworks\" : \"ArchiMate, TOGAF, Zachman, IFW and DoDAF\"\n",
    "    },\n",
    "    \"Technical\" : {\n",
    "        \"Cloud\" : \"Azure, Amazon Web Services, with some RedHat OpenShift\",\n",
    "        \"Web Content Management\" : \"Adobe CQ / Experience Manager (AEM) and Sitecore\",\n",
    "        \"Mobile\" : \"PhoneGap, Ionic (Cordova+Angular) with Bootstrap, Android, iOS\",\n",
    "        \"Java / J(2)EE\" : \"Up to Java 8 & JEE 7 on WebSphere, WebLogic, Tomcat and JBoss\",\n",
    "        \"ESBs\" : \"WebSphere Message Broker, WebMethods, Mule and FUSE\",\n",
    "        \"Workflow\" : \"PEGA and Bonita\",\n",
    "        \"Miscellaneous\" : \"Drools (Rules Engine), and Vaadin (RIA)\"\n",
    "    },\n",
    "    \"Other\" : {\n",
    "        \"Software Processes\" : \"Agile, XP, Scrum, Lean, Unified Process, V Model, Waterfall\",\n",
    "        \"Soft Skills\": \"Design Thinking, 6 Hats Thinking, Team Leadership, Mentoring, Communication\",\n",
    "        \"Misc Skills\" : \"Project Management, Mentoring, Usability, Training and Process Development\",\n",
    "        \"Hobbies\" : \"Boating, Electronic Music and Photography\"\n",
    "    }\n",
    "}\n",
    "import yaml\n",
    "print(yaml.dump(CoreSkills))"
   ]
  },
  {
   "cell_type": "code",
   "execution_count": 27,
   "id": "7802d6ad-2692-4623-b6cf-bd8cc57cef39",
   "metadata": {},
   "outputs": [
    {
     "ename": "SyntaxError",
     "evalue": "invalid syntax (535035730.py, line 2)",
     "output_type": "error",
     "traceback": [
      "\u001b[0;36m  File \u001b[0;32m\"/var/folders/3d/85ff2wm11y144flcjy3kxmth0000gp/T/ipykernel_41745/535035730.py\"\u001b[0;36m, line \u001b[0;32m2\u001b[0m\n\u001b[0;31m    \"Architectural\" : {\u001b[0m\n\u001b[0m                    ^\u001b[0m\n\u001b[0;31mSyntaxError\u001b[0m\u001b[0;31m:\u001b[0m invalid syntax\n"
     ]
    }
   ],
   "source": [
    "CoreSkills = [\n",
    "    \"Architectural\" : {\n",
    "        \"Digital\"  : \"Designed and implemented using Web, Portals, Caching, Mobile\",\n",
    "        \"Cloud\"    : \"Equal Azure and Amazon Web Services, with some IBM, Google and RedHat OpenShift\",\n",
    "        \"MicroServices & SOA\" : \"Created end-to-end Enterprise to Logical to Physical Architectures\",\n",
    "        \"Patterns\" : \"Erl SOA, Hohpe SOA / EAI, J2EE, Gang of Four and Custom\",\n",
    "        \"Solution Architecture & Design\": \"Across Cloud, JavaScript, J2EE, .NET and Mainframe\",\n",
    "        \"Enterprise Architecture Frameworks\" : \"ArchiMate, TOGAF, Zachman, IFW and DoDAF\"\n",
    "    },\n",
    "    \"Technical\" : {\n",
    "        \"Cloud\" : \"Azure, Amazon Web Services, with some RedHat OpenShift\",\n",
    "        \"Web Content Management\" : \"Adobe CQ / Experience Manager (AEM) and Sitecore\",\n",
    "        \"Mobile\" : \"PhoneGap, Ionic (Cordova+Angular) with Bootstrap, Android, iOS\",\n",
    "        \"Java / J(2)EE\" : \"Up to Java 8 & JEE 7 on WebSphere, WebLogic, Tomcat and JBoss\",\n",
    "        \"ESBs\" : \"WebSphere Message Broker, WebMethods, Mule and FUSE\",\n",
    "        \"Workflow\" : \"PEGA and Bonita\",\n",
    "        \"Miscellaneous\" : \"Drools (Rules Engine), and Vaadin (RIA)\"\n",
    "    },\n",
    "    \"Other\" : {\n",
    "        \"Software Processes\" : \"Agile, XP, Scrum, Lean, Unified Process, V Model, Waterfall\",\n",
    "        \"Soft Skills\": \"Design Thinking, 6 Hats Thinking, Team Leadership, Mentoring, Communication\",\n",
    "        \"Misc Skills\" : \"Project Management, Mentoring, Usability, Training and Process Development\",\n",
    "        \"Hobbies\" : \"Boating, Electronic Music and Photography\"\n",
    "    }\n",
    "]\n",
    "import yaml\n",
    "print(yaml.dump(CoreSkills))"
   ]
  },
  {
   "cell_type": "code",
   "execution_count": 1,
   "id": "91df64f1-c167-497b-9699-a4b2406f2050",
   "metadata": {},
   "outputs": [
    {
     "data": {
      "text/plain": [
       "'3.9.13'"
      ]
     },
     "execution_count": 1,
     "metadata": {},
     "output_type": "execute_result"
    }
   ],
   "source": [
    "from platform import python_version\n",
    "python_version()"
   ]
  },
  {
   "cell_type": "code",
   "execution_count": null,
   "id": "e01e1cfd-6e6e-40cc-86d0-4f92807c653e",
   "metadata": {},
   "outputs": [],
   "source": []
  }
 ],
 "metadata": {
  "kernelspec": {
   "display_name": "Python 3 (ipykernel)",
   "language": "python",
   "name": "python3"
  },
  "language_info": {
   "codemirror_mode": {
    "name": "ipython",
    "version": 3
   },
   "file_extension": ".py",
   "mimetype": "text/x-python",
   "name": "python",
   "nbconvert_exporter": "python",
   "pygments_lexer": "ipython3",
   "version": "3.9.13"
  }
 },
 "nbformat": 4,
 "nbformat_minor": 5
}
